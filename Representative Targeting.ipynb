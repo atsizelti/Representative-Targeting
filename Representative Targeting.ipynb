{
 "cells": [
  {
   "cell_type": "markdown",
   "id": "3416f010",
   "metadata": {},
   "source": [
    "## Representative Targeting"
   ]
  },
  {
   "cell_type": "markdown",
   "id": "7c576be9",
   "metadata": {},
   "source": [
    "#### Main Variables\n",
    "\n",
    "\n",
    "1) Burada kategorilerinin neler olduğunu yazacak. Kategorilerin kaç farklı unsurdan oluştuğu.\n",
    "\n",
    "2) Unsurların full populasyondaki rakamları yazılacak\n",
    "\n",
    "3) Sampling'de hedef alınacak rakam belirlenecek\n",
    "\n",
    "4) Hedef alınan rakama göre her kategori için gereken sayılar belirlenecek\n",
    "\n",
    "5) Elimizde iki veriseti var. Birincisi genel pop, ikincisi biased bir sample. Bu biased sample içinden representative bir sample çıkarmaya çalıştığımız durumlarda elimizdeki veri halihazırdaki durumuyla yetersiz gelebilir. Bu sebeple etkileşim sayısı temelinde biased sample'ımızı birkaç kısıma ayırıp buna göre öncelikliliğe göre alım yapabiliriz. Bu durumda:\n",
    "\n",
    "\n",
    "\n",
    "\n",
    "a) İlk tanımlanan thresold'a göre representative sampling kotasının dolup dolmadığına bakılır. Doluyor ve artıyorsa bunun içerisinde random bir seçim yapılır, \n",
    "\n",
    "\n",
    "b) tam doluyorsa hepsi alınır, \n",
    "\n",
    "\n",
    "c) dolmuyorsa bu kategorinin tamamı alınıp bir sonraki thresold'a geçilir. Bu şekilde tanımlanan thresold sayısında \n",
    "ilerlenir. \n",
    "\n",
    "\n",
    "d) Thresold'lar bittiğinde kotaya erişilememişse geriye kalan rakam yazılır. "
   ]
  },
  {
   "cell_type": "code",
   "execution_count": null,
   "id": "9c439a79",
   "metadata": {},
   "outputs": [],
   "source": []
  },
  {
   "cell_type": "code",
   "execution_count": null,
   "id": "be24e040",
   "metadata": {},
   "outputs": [],
   "source": []
  }
 ],
 "metadata": {
  "kernelspec": {
   "display_name": "Python 3 (ipykernel)",
   "language": "python",
   "name": "python3"
  },
  "language_info": {
   "codemirror_mode": {
    "name": "ipython",
    "version": 3
   },
   "file_extension": ".py",
   "mimetype": "text/x-python",
   "name": "python",
   "nbconvert_exporter": "python",
   "pygments_lexer": "ipython3",
   "version": "3.9.12"
  }
 },
 "nbformat": 4,
 "nbformat_minor": 5
}
